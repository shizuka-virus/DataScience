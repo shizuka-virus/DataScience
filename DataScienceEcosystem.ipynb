{
 "cells": [
  {
   "cell_type": "markdown",
   "id": "9aed2956-ce13-42a0-80f6-3855a38c8e96",
   "metadata": {},
   "source": [
    "# Data Science Tools and Ecosystem"
   ]
  },
  {
   "cell_type": "markdown",
   "id": "25f5daf8-7a3a-433f-808e-41e79e20fc6a",
   "metadata": {},
   "source": [
    "**Objectives:**\n",
    "* Languages that Data Scientists\n",
    "* Libraries used by Data Scientists\n",
    "* Data Science Tools"
   ]
  },
  {
   "cell_type": "markdown",
   "id": "f6688295-d6e4-4603-9548-edd5c6b24e6a",
   "metadata": {},
   "source": [
    "In this notebook, Data Science Tools and Ecosystem are summarized."
   ]
  },
  {
   "cell_type": "markdown",
   "id": "42fb36cb-7e6a-4164-adb8-f8d06bb81f68",
   "metadata": {},
   "source": [
    "Some of the popular languages that Data Scientists use are:\n",
    "1. Python\n",
    "2. R\n",
    "3. SQL"
   ]
  },
  {
   "cell_type": "markdown",
   "id": "92c4fe1e-d329-4e47-8133-a608466d409c",
   "metadata": {},
   "source": [
    "Some of the commonly used libraries used by Data Scientists include:\n",
    "1. NumPy\n",
    "2. Pandas\n",
    "3. Seaborn"
   ]
  },
  {
   "cell_type": "markdown",
   "id": "c13c6a8d-b77c-4538-80e9-93646f09d862",
   "metadata": {},
   "source": [
    "| Data Science Tools |\n",
    "|--------------------|\n",
    "| Jupyter Notebook   |\n",
    "| Google Colab       |\n",
    "| VS Code            |"
   ]
  },
  {
   "cell_type": "markdown",
   "id": "758d8b12-1c84-40bb-a0a4-ea151eba9eff",
   "metadata": {},
   "source": [
    "### Below are a few examples of evaluating arithmetic expressions in Python"
   ]
  },
  {
   "cell_type": "code",
   "execution_count": 1,
   "id": "f9262c65-8afd-43d4-90be-3e869fbe9c9c",
   "metadata": {},
   "outputs": [
    {
     "data": {
      "text/plain": [
       "17"
      ]
     },
     "execution_count": 1,
     "metadata": {},
     "output_type": "execute_result"
    }
   ],
   "source": [
    "#This a simple arithmetic expression to mutiply then add integers\n",
    "(3*4)+5"
   ]
  },
  {
   "cell_type": "code",
   "execution_count": 2,
   "id": "c98d1500-bd2d-4808-a1b5-473b251f6542",
   "metadata": {},
   "outputs": [
    {
     "data": {
      "text/plain": [
       "3.3333333333333335"
      ]
     },
     "execution_count": 2,
     "metadata": {},
     "output_type": "execute_result"
    }
   ],
   "source": [
    "#This will convert 200 minutes to hours by diving by 60\n",
    "200/60"
   ]
  },
  {
   "cell_type": "markdown",
   "id": "23f22100-64f2-46f3-8f01-1c35a6e9dc40",
   "metadata": {},
   "source": [
    "## Author\n",
    "MUHAMMAD FAROOQ"
   ]
  },
  {
   "cell_type": "code",
   "execution_count": null,
   "id": "38ef3a7b-d690-4061-8a71-487e7216109d",
   "metadata": {},
   "outputs": [],
   "source": []
  }
 ],
 "metadata": {
  "kernelspec": {
   "display_name": "Python 3 (ipykernel)",
   "language": "python",
   "name": "python3"
  },
  "language_info": {
   "codemirror_mode": {
    "name": "ipython",
    "version": 3
   },
   "file_extension": ".py",
   "mimetype": "text/x-python",
   "name": "python",
   "nbconvert_exporter": "python",
   "pygments_lexer": "ipython3",
   "version": "3.12.7"
  }
 },
 "nbformat": 4,
 "nbformat_minor": 5
}
